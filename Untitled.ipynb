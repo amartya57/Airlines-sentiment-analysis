{
 "cells": [
  {
   "cell_type": "markdown",
   "metadata": {},
   "source": [
    "### Importing the necessary libraries"
   ]
  },
  {
   "cell_type": "code",
   "execution_count": 1,
   "metadata": {},
   "outputs": [],
   "source": [
    "import pandas as pd\n",
    "import numpy as np\n",
    "import matplotlib.pyplot as plt\n",
    "\n",
    "import sklearn\n",
    "from sklearn.preprocessing import LabelEncoder\n",
    "from sklearn.utils import shuffle\n",
    "from sklearn.model_selection import train_test_split\n",
    "\n",
    "import re\n",
    "import emoji\n",
    "\n",
    "import tensorflow as tf\n",
    "from tensorflow import keras\n",
    "from tensorflow.keras.preprocessing.text import Tokenizer\n",
    "from tensorflow.keras.preprocessing.sequence import pad_sequences\n",
    "\n",
    "import pickle"
   ]
  },
  {
   "cell_type": "code",
   "execution_count": null,
   "metadata": {},
   "outputs": [],
   "source": []
  },
  {
   "cell_type": "code",
   "execution_count": 2,
   "metadata": {},
   "outputs": [],
   "source": [
    "embedding_dim=100\n",
    "max_len=32\n",
    "trunc_type=\"post\"\n",
    "pad_type=\"post\"\n",
    "oov_tok=\"<OOV>\""
   ]
  },
  {
   "cell_type": "code",
   "execution_count": null,
   "metadata": {},
   "outputs": [],
   "source": []
  },
  {
   "cell_type": "markdown",
   "metadata": {},
   "source": [
    "### Data cleaning and preprocessing"
   ]
  },
  {
   "cell_type": "code",
   "execution_count": null,
   "metadata": {},
   "outputs": [],
   "source": []
  },
  {
   "cell_type": "markdown",
   "metadata": {},
   "source": [
    "#### Reading the dataset and filtering the needed columns"
   ]
  },
  {
   "cell_type": "code",
   "execution_count": 3,
   "metadata": {},
   "outputs": [
    {
     "data": {
      "text/html": [
       "<div>\n",
       "<style scoped>\n",
       "    .dataframe tbody tr th:only-of-type {\n",
       "        vertical-align: middle;\n",
       "    }\n",
       "\n",
       "    .dataframe tbody tr th {\n",
       "        vertical-align: top;\n",
       "    }\n",
       "\n",
       "    .dataframe thead th {\n",
       "        text-align: right;\n",
       "    }\n",
       "</style>\n",
       "<table border=\"1\" class=\"dataframe\">\n",
       "  <thead>\n",
       "    <tr style=\"text-align: right;\">\n",
       "      <th></th>\n",
       "      <th>sentiment</th>\n",
       "      <th>Text</th>\n",
       "    </tr>\n",
       "  </thead>\n",
       "  <tbody>\n",
       "    <tr>\n",
       "      <th>0</th>\n",
       "      <td>positive</td>\n",
       "      <td>@VirginAmerica plus you've added commercials t...</td>\n",
       "    </tr>\n",
       "    <tr>\n",
       "      <th>1</th>\n",
       "      <td>negative</td>\n",
       "      <td>@VirginAmerica it's really aggressive to blast...</td>\n",
       "    </tr>\n",
       "    <tr>\n",
       "      <th>2</th>\n",
       "      <td>negative</td>\n",
       "      <td>@VirginAmerica and it's a really big bad thing...</td>\n",
       "    </tr>\n",
       "    <tr>\n",
       "      <th>3</th>\n",
       "      <td>negative</td>\n",
       "      <td>@VirginAmerica seriously would pay $30 a fligh...</td>\n",
       "    </tr>\n",
       "    <tr>\n",
       "      <th>4</th>\n",
       "      <td>positive</td>\n",
       "      <td>@VirginAmerica yes, nearly every time I fly VX...</td>\n",
       "    </tr>\n",
       "  </tbody>\n",
       "</table>\n",
       "</div>"
      ],
      "text/plain": [
       "  sentiment                                               Text\n",
       "0  positive  @VirginAmerica plus you've added commercials t...\n",
       "1  negative  @VirginAmerica it's really aggressive to blast...\n",
       "2  negative  @VirginAmerica and it's a really big bad thing...\n",
       "3  negative  @VirginAmerica seriously would pay $30 a fligh...\n",
       "4  positive  @VirginAmerica yes, nearly every time I fly VX..."
      ]
     },
     "execution_count": 3,
     "metadata": {},
     "output_type": "execute_result"
    }
   ],
   "source": [
    "df=pd.read_csv(\"airline_sentiment_analysis.csv\")\n",
    "df=df.iloc[:,1:]\n",
    "df.columns=[\"sentiment\",\"Text\"]\n",
    "df.head()"
   ]
  },
  {
   "cell_type": "markdown",
   "metadata": {},
   "source": [
    "#### Using label encoder to convert the sentiment columns into zero and one"
   ]
  },
  {
   "cell_type": "code",
   "execution_count": 4,
   "metadata": {
    "scrolled": true
   },
   "outputs": [
    {
     "data": {
      "text/html": [
       "<div>\n",
       "<style scoped>\n",
       "    .dataframe tbody tr th:only-of-type {\n",
       "        vertical-align: middle;\n",
       "    }\n",
       "\n",
       "    .dataframe tbody tr th {\n",
       "        vertical-align: top;\n",
       "    }\n",
       "\n",
       "    .dataframe thead th {\n",
       "        text-align: right;\n",
       "    }\n",
       "</style>\n",
       "<table border=\"1\" class=\"dataframe\">\n",
       "  <thead>\n",
       "    <tr style=\"text-align: right;\">\n",
       "      <th></th>\n",
       "      <th>sentiment</th>\n",
       "      <th>Text</th>\n",
       "    </tr>\n",
       "  </thead>\n",
       "  <tbody>\n",
       "    <tr>\n",
       "      <th>0</th>\n",
       "      <td>1</td>\n",
       "      <td>@VirginAmerica plus you've added commercials t...</td>\n",
       "    </tr>\n",
       "    <tr>\n",
       "      <th>1</th>\n",
       "      <td>0</td>\n",
       "      <td>@VirginAmerica it's really aggressive to blast...</td>\n",
       "    </tr>\n",
       "    <tr>\n",
       "      <th>2</th>\n",
       "      <td>0</td>\n",
       "      <td>@VirginAmerica and it's a really big bad thing...</td>\n",
       "    </tr>\n",
       "    <tr>\n",
       "      <th>3</th>\n",
       "      <td>0</td>\n",
       "      <td>@VirginAmerica seriously would pay $30 a fligh...</td>\n",
       "    </tr>\n",
       "    <tr>\n",
       "      <th>4</th>\n",
       "      <td>1</td>\n",
       "      <td>@VirginAmerica yes, nearly every time I fly VX...</td>\n",
       "    </tr>\n",
       "  </tbody>\n",
       "</table>\n",
       "</div>"
      ],
      "text/plain": [
       "   sentiment                                               Text\n",
       "0          1  @VirginAmerica plus you've added commercials t...\n",
       "1          0  @VirginAmerica it's really aggressive to blast...\n",
       "2          0  @VirginAmerica and it's a really big bad thing...\n",
       "3          0  @VirginAmerica seriously would pay $30 a fligh...\n",
       "4          1  @VirginAmerica yes, nearly every time I fly VX..."
      ]
     },
     "execution_count": 4,
     "metadata": {},
     "output_type": "execute_result"
    }
   ],
   "source": [
    "enc=LabelEncoder()\n",
    "df[\"sentiment\"]=enc.fit_transform(df[\"sentiment\"])\n",
    "df.head()"
   ]
  },
  {
   "cell_type": "markdown",
   "metadata": {},
   "source": [
    "#### Removing the hashtags and @ tags"
   ]
  },
  {
   "cell_type": "code",
   "execution_count": 5,
   "metadata": {},
   "outputs": [],
   "source": [
    "def rem_hash(s):\n",
    "    s = ' '.join(re.sub(\"(@[A-Za-z0-9]+)|(#+)\", \" \", s).split())\n",
    "    return s"
   ]
  },
  {
   "cell_type": "markdown",
   "metadata": {},
   "source": [
    "#### Removing url's from the text"
   ]
  },
  {
   "cell_type": "code",
   "execution_count": 6,
   "metadata": {},
   "outputs": [],
   "source": [
    "def rem_url(s):\n",
    "    s = ' '.join(re.sub(\"(\\w+:\\/\\/\\S+)\", \" \", s).split())\n",
    "    return s"
   ]
  },
  {
   "cell_type": "markdown",
   "metadata": {},
   "source": [
    "#### Converting all letters in the text to lower hand"
   ]
  },
  {
   "cell_type": "code",
   "execution_count": 7,
   "metadata": {},
   "outputs": [],
   "source": [
    "def make_lower(s):\n",
    "    return s.lower()"
   ]
  },
  {
   "cell_type": "markdown",
   "metadata": {},
   "source": [
    "#### Converting emojis in the text to words"
   ]
  },
  {
   "cell_type": "code",
   "execution_count": 8,
   "metadata": {},
   "outputs": [],
   "source": [
    "def rem_emoji(s):\n",
    "    s = emoji.demojize(s)\n",
    "    s = s.replace(\":\",\" \")\n",
    "    s = s.replace(\"_\",\" \")\n",
    "    s = ' '.join(s.split())\n",
    "    return s"
   ]
  },
  {
   "cell_type": "code",
   "execution_count": 9,
   "metadata": {},
   "outputs": [],
   "source": [
    "df[\"Text\"]=df[\"Text\"].apply(rem_hash)\n",
    "df[\"Text\"]=df[\"Text\"].apply(rem_url)\n",
    "df[\"Text\"]=df[\"Text\"].apply(make_lower)\n",
    "df[\"Text\"]=df[\"Text\"].apply(rem_emoji)"
   ]
  },
  {
   "cell_type": "code",
   "execution_count": 10,
   "metadata": {
    "scrolled": true
   },
   "outputs": [
    {
     "data": {
      "text/html": [
       "<div>\n",
       "<style scoped>\n",
       "    .dataframe tbody tr th:only-of-type {\n",
       "        vertical-align: middle;\n",
       "    }\n",
       "\n",
       "    .dataframe tbody tr th {\n",
       "        vertical-align: top;\n",
       "    }\n",
       "\n",
       "    .dataframe thead th {\n",
       "        text-align: right;\n",
       "    }\n",
       "</style>\n",
       "<table border=\"1\" class=\"dataframe\">\n",
       "  <thead>\n",
       "    <tr style=\"text-align: right;\">\n",
       "      <th></th>\n",
       "      <th>sentiment</th>\n",
       "      <th>Text</th>\n",
       "    </tr>\n",
       "  </thead>\n",
       "  <tbody>\n",
       "    <tr>\n",
       "      <th>0</th>\n",
       "      <td>1</td>\n",
       "      <td>plus you've added commercials to the experienc...</td>\n",
       "    </tr>\n",
       "    <tr>\n",
       "      <th>1</th>\n",
       "      <td>0</td>\n",
       "      <td>it's really aggressive to blast obnoxious \"ent...</td>\n",
       "    </tr>\n",
       "    <tr>\n",
       "      <th>2</th>\n",
       "      <td>0</td>\n",
       "      <td>and it's a really big bad thing about it</td>\n",
       "    </tr>\n",
       "    <tr>\n",
       "      <th>3</th>\n",
       "      <td>0</td>\n",
       "      <td>seriously would pay $30 a flight for seats tha...</td>\n",
       "    </tr>\n",
       "    <tr>\n",
       "      <th>4</th>\n",
       "      <td>1</td>\n",
       "      <td>yes, nearly every time i fly vx this “ear worm...</td>\n",
       "    </tr>\n",
       "  </tbody>\n",
       "</table>\n",
       "</div>"
      ],
      "text/plain": [
       "   sentiment                                               Text\n",
       "0          1  plus you've added commercials to the experienc...\n",
       "1          0  it's really aggressive to blast obnoxious \"ent...\n",
       "2          0           and it's a really big bad thing about it\n",
       "3          0  seriously would pay $30 a flight for seats tha...\n",
       "4          1  yes, nearly every time i fly vx this “ear worm..."
      ]
     },
     "execution_count": 10,
     "metadata": {},
     "output_type": "execute_result"
    }
   ],
   "source": [
    "df.head()"
   ]
  },
  {
   "cell_type": "code",
   "execution_count": null,
   "metadata": {},
   "outputs": [],
   "source": []
  },
  {
   "cell_type": "markdown",
   "metadata": {},
   "source": [
    "#### Splitting the dataset into training and testing data"
   ]
  },
  {
   "cell_type": "code",
   "execution_count": 11,
   "metadata": {},
   "outputs": [],
   "source": [
    "sentences=df.iloc[:,1].values\n",
    "labels=df.iloc[:,0].values"
   ]
  },
  {
   "cell_type": "code",
   "execution_count": 12,
   "metadata": {},
   "outputs": [],
   "source": [
    "train_sentences,test_sentences,train_labels,test_labels=train_test_split(sentences, labels, test_size=0.1)"
   ]
  },
  {
   "cell_type": "code",
   "execution_count": 13,
   "metadata": {},
   "outputs": [
    {
     "name": "stdout",
     "output_type": "stream",
     "text": [
      "(10386,)\n",
      "(1155,)\n",
      "(10386,)\n",
      "(1155,)\n"
     ]
    }
   ],
   "source": [
    "print(train_sentences.shape)\n",
    "print(test_sentences.shape)\n",
    "print(train_labels.shape)\n",
    "print(test_labels.shape)"
   ]
  },
  {
   "cell_type": "code",
   "execution_count": 14,
   "metadata": {},
   "outputs": [],
   "source": [
    "train_sentences=list(train_sentences)\n",
    "test_sentences=list(test_sentences)\n",
    "train_labels=list(train_labels)\n",
    "test_labels=list(test_labels)"
   ]
  },
  {
   "cell_type": "code",
   "execution_count": 15,
   "metadata": {},
   "outputs": [],
   "source": [
    "train_labels=np.array(train_labels)\n",
    "test_labels=np.array(test_labels)"
   ]
  },
  {
   "cell_type": "code",
   "execution_count": null,
   "metadata": {},
   "outputs": [],
   "source": []
  },
  {
   "cell_type": "markdown",
   "metadata": {},
   "source": [
    "#### Using tokenizer to convert texts into sequences"
   ]
  },
  {
   "cell_type": "code",
   "execution_count": 16,
   "metadata": {},
   "outputs": [],
   "source": [
    "tokenizer=Tokenizer(oov_token=\"<OOV>\")\n",
    "tokenizer.fit_on_texts(train_sentences)"
   ]
  },
  {
   "cell_type": "code",
   "execution_count": 17,
   "metadata": {},
   "outputs": [],
   "source": [
    "word_index=tokenizer.word_index\n",
    "vocab_size=len(word_index)"
   ]
  },
  {
   "cell_type": "code",
   "execution_count": 18,
   "metadata": {},
   "outputs": [],
   "source": [
    "sequence=tokenizer.texts_to_sequences(train_sentences)\n",
    "test_sequence=tokenizer.texts_to_sequences(test_sentences)"
   ]
  },
  {
   "cell_type": "markdown",
   "metadata": {},
   "source": [
    "#### Using padding to make all entries of equal size"
   ]
  },
  {
   "cell_type": "code",
   "execution_count": 19,
   "metadata": {},
   "outputs": [],
   "source": [
    "padded=pad_sequences(sequence, maxlen=max_len, truncating=trunc_type, padding=pad_type)\n",
    "test_padded=pad_sequences(test_sequence, maxlen=max_len, truncating=trunc_type, padding=pad_type)"
   ]
  },
  {
   "cell_type": "code",
   "execution_count": null,
   "metadata": {},
   "outputs": [],
   "source": []
  },
  {
   "cell_type": "markdown",
   "metadata": {},
   "source": [
    "### Using the Glove100D pre trained word embeddings to create an embedding matrix"
   ]
  },
  {
   "cell_type": "code",
   "execution_count": 20,
   "metadata": {},
   "outputs": [],
   "source": [
    "embeddings_index={}\n",
    "with open(\"glove.6B.100d.txt\",\"r\",encoding=\"utf8\") as f:\n",
    "    for line in f:\n",
    "        values=line.split()\n",
    "        word=values[0]\n",
    "        coeffs=np.array(values[1:],dtype=\"float32\")\n",
    "        embeddings_index[word]=coeffs"
   ]
  },
  {
   "cell_type": "code",
   "execution_count": 21,
   "metadata": {},
   "outputs": [],
   "source": [
    "embedding_matrix=np.zeros((vocab_size+1,embedding_dim))\n",
    "for word,i in word_index.items():\n",
    "    embedding_vector=embeddings_index.get(word)\n",
    "    if embedding_vector is not None:\n",
    "        embedding_matrix[i]=embedding_vector"
   ]
  },
  {
   "cell_type": "code",
   "execution_count": 22,
   "metadata": {},
   "outputs": [
    {
     "name": "stdout",
     "output_type": "stream",
     "text": [
      "11173\n",
      "11172\n"
     ]
    }
   ],
   "source": [
    "print(len(embedding_matrix))\n",
    "print(vocab_size)"
   ]
  },
  {
   "cell_type": "code",
   "execution_count": null,
   "metadata": {},
   "outputs": [],
   "source": []
  },
  {
   "cell_type": "markdown",
   "metadata": {},
   "source": [
    "### Model building and training"
   ]
  },
  {
   "cell_type": "markdown",
   "metadata": {},
   "source": [
    "#### Building the model"
   ]
  },
  {
   "cell_type": "code",
   "execution_count": 23,
   "metadata": {},
   "outputs": [],
   "source": [
    "model=tf.keras.models.Sequential([\n",
    "    tf.keras.layers.Embedding(vocab_size+1, embedding_dim, input_length=max_len, weights=[embedding_matrix], trainable=False),\n",
    "    tf.keras.layers.Dropout(0.2),\n",
    "    tf.keras.layers.Conv1D(64, 5, activation='relu'),\n",
    "    tf.keras.layers.MaxPooling1D(pool_size=4),\n",
    "    tf.keras.layers.Bidirectional(tf.keras.layers.LSTM(64)),\n",
    "    tf.keras.layers.Dense(units=64, activation='relu'),\n",
    "    tf.keras.layers.Dense(units=1, activation='sigmoid')\n",
    "])"
   ]
  },
  {
   "cell_type": "markdown",
   "metadata": {},
   "source": [
    "#### Model compiling"
   ]
  },
  {
   "cell_type": "code",
   "execution_count": 24,
   "metadata": {},
   "outputs": [],
   "source": [
    "model.compile(loss='binary_crossentropy',\n",
    "             optimizer='adam',\n",
    "             metrics=['accuracy'])"
   ]
  },
  {
   "cell_type": "markdown",
   "metadata": {},
   "source": [
    "#### Training the model on the train data and testing on the validation data"
   ]
  },
  {
   "cell_type": "code",
   "execution_count": 25,
   "metadata": {},
   "outputs": [
    {
     "name": "stdout",
     "output_type": "stream",
     "text": [
      "Train on 10386 samples, validate on 1155 samples\n",
      "Epoch 1/10\n",
      "10386/10386 [==============================] - 6s 574us/sample - loss: 0.3459 - accuracy: 0.8571 - val_loss: 0.2276 - val_accuracy: 0.9186\n",
      "Epoch 2/10\n",
      "10386/10386 [==============================] - 2s 183us/sample - loss: 0.2485 - accuracy: 0.8994 - val_loss: 0.2193 - val_accuracy: 0.9169\n",
      "Epoch 3/10\n",
      "10386/10386 [==============================] - 2s 185us/sample - loss: 0.2122 - accuracy: 0.9179 - val_loss: 0.2086 - val_accuracy: 0.9195\n",
      "Epoch 4/10\n",
      "10386/10386 [==============================] - 2s 184us/sample - loss: 0.1928 - accuracy: 0.9241 - val_loss: 0.2137 - val_accuracy: 0.9186\n",
      "Epoch 5/10\n",
      "10386/10386 [==============================] - 2s 183us/sample - loss: 0.1619 - accuracy: 0.9402 - val_loss: 0.2230 - val_accuracy: 0.9100\n",
      "Epoch 6/10\n",
      "10386/10386 [==============================] - 2s 184us/sample - loss: 0.1533 - accuracy: 0.9407 - val_loss: 0.2187 - val_accuracy: 0.9126\n",
      "Epoch 7/10\n",
      "10386/10386 [==============================] - 2s 183us/sample - loss: 0.1322 - accuracy: 0.9500 - val_loss: 0.2396 - val_accuracy: 0.8944\n",
      "Epoch 8/10\n",
      "10386/10386 [==============================] - 2s 184us/sample - loss: 0.1083 - accuracy: 0.9584 - val_loss: 0.2349 - val_accuracy: 0.9143\n",
      "Epoch 9/10\n",
      "10386/10386 [==============================] - 2s 186us/sample - loss: 0.1047 - accuracy: 0.9597 - val_loss: 0.3326 - val_accuracy: 0.8684\n",
      "Epoch 10/10\n",
      "10386/10386 [==============================] - 2s 183us/sample - loss: 0.0989 - accuracy: 0.9636 - val_loss: 0.2824 - val_accuracy: 0.9056\n"
     ]
    }
   ],
   "source": [
    "history=model.fit(padded,\n",
    "                 train_labels,\n",
    "                 validation_data=(test_padded, test_labels),\n",
    "                 epochs=10)"
   ]
  },
  {
   "cell_type": "markdown",
   "metadata": {},
   "source": [
    "#### Plotting the loss and accuracy"
   ]
  },
  {
   "cell_type": "code",
   "execution_count": 26,
   "metadata": {
    "scrolled": true
   },
   "outputs": [
    {
     "data": {
      "image/png": "[encoded data removed]",
      "text/plain": [
       "<Figure size 432x288 with 1 Axes>"
      ]
     },
     "metadata": {
      "needs_background": "light"
     },
     "output_type": "display_data"
    }
   ],
   "source": [
    "loss=history.history[\"loss\"]\n",
    "val_loss=history.history[\"val_loss\"]\n",
    "epochs=len(loss)\n",
    "plt.plot(range(epochs),loss,'b')\n",
    "plt.plot(range(epochs),val_loss,'g')\n",
    "plt.show()"
   ]
  },
  {
   "cell_type": "code",
   "execution_count": 27,
   "metadata": {},
   "outputs": [
    {
     "data": {
      "image/png": "[encoded data removed]",
      "text/plain": [
       "<Figure size 432x288 with 1 Axes>"
      ]
     },
     "metadata": {
      "needs_background": "light"
     },
     "output_type": "display_data"
    }
   ],
   "source": [
    "acc=history.history[\"accuracy\"]\n",
    "val_acc=history.history[\"val_accuracy\"]\n",
    "epochs=len(acc)\n",
    "plt.plot(range(epochs),acc,'b')\n",
    "plt.plot(range(epochs),val_acc,'g')\n",
    "plt.show()"
   ]
  },
  {
   "cell_type": "code",
   "execution_count": null,
   "metadata": {},
   "outputs": [],
   "source": []
  },
  {
   "cell_type": "markdown",
   "metadata": {},
   "source": [
    "### Seeing the performance on the test data"
   ]
  },
  {
   "cell_type": "code",
   "execution_count": 28,
   "metadata": {},
   "outputs": [],
   "source": [
    "tf.keras.backend.clear_session()\n",
    "tf.random.set_seed(55)\n",
    "np.random.seed(55)"
   ]
  },
  {
   "cell_type": "code",
   "execution_count": 29,
   "metadata": {},
   "outputs": [],
   "source": [
    "model=tf.keras.models.Sequential([\n",
    "    tf.keras.layers.Embedding(vocab_size+1, embedding_dim, input_length=max_len, weights=[embedding_matrix], trainable=False),\n",
    "    tf.keras.layers.Dropout(0.2),\n",
    "    tf.keras.layers.Conv1D(64, 5, activation='relu'),\n",
    "    tf.keras.layers.MaxPooling1D(pool_size=4),\n",
    "    tf.keras.layers.Bidirectional(tf.keras.layers.LSTM(64)),\n",
    "    tf.keras.layers.Dense(units=64, activation='relu'),\n",
    "    tf.keras.layers.Dense(units=1, activation='sigmoid')\n",
    "])"
   ]
  },
  {
   "cell_type": "code",
   "execution_count": 30,
   "metadata": {},
   "outputs": [],
   "source": [
    "model.compile(loss='binary_crossentropy',\n",
    "             optimizer='adam',\n",
    "             metrics=['accuracy'])"
   ]
  },
  {
   "cell_type": "code",
   "execution_count": 31,
   "metadata": {},
   "outputs": [
    {
     "name": "stdout",
     "output_type": "stream",
     "text": [
      "Train on 10386 samples\n",
      "Epoch 1/15\n",
      "10386/10386 [==============================] - 4s 431us/sample - loss: 0.3396 - accuracy: 0.8577\n",
      "Epoch 2/15\n",
      "10386/10386 [==============================] - 2s 175us/sample - loss: 0.2434 - accuracy: 0.9040\n",
      "Epoch 3/15\n",
      "10386/10386 [==============================] - 2s 174us/sample - loss: 0.2133 - accuracy: 0.9162\n",
      "Epoch 4/15\n",
      "10386/10386 [==============================] - 2s 174us/sample - loss: 0.1971 - accuracy: 0.9225\n",
      "Epoch 5/15\n",
      "10386/10386 [==============================] - 2s 175us/sample - loss: 0.1706 - accuracy: 0.9335\n",
      "Epoch 6/15\n",
      "10386/10386 [==============================] - 2s 173us/sample - loss: 0.1510 - accuracy: 0.9391\n",
      "Epoch 7/15\n",
      "10386/10386 [==============================] - 2s 173us/sample - loss: 0.1298 - accuracy: 0.9503\n",
      "Epoch 8/15\n",
      "10386/10386 [==============================] - 2s 181us/sample - loss: 0.1198 - accuracy: 0.9531\n",
      "Epoch 9/15\n",
      "10386/10386 [==============================] - 2s 178us/sample - loss: 0.1018 - accuracy: 0.9614\n",
      "Epoch 10/15\n",
      "10386/10386 [==============================] - 2s 194us/sample - loss: 0.0913 - accuracy: 0.9653\n",
      "Epoch 11/15\n",
      "10386/10386 [==============================] - 2s 195us/sample - loss: 0.0775 - accuracy: 0.9711\n",
      "Epoch 12/15\n",
      "10386/10386 [==============================] - 2s 190us/sample - loss: 0.0761 - accuracy: 0.9717\n",
      "Epoch 13/15\n",
      "10386/10386 [==============================] - 2s 195us/sample - loss: 0.0732 - accuracy: 0.9715\n",
      "Epoch 14/15\n",
      "10386/10386 [==============================] - 2s 183us/sample - loss: 0.0650 - accuracy: 0.9745\n",
      "Epoch 15/15\n",
      "10386/10386 [==============================] - 2s 180us/sample - loss: 0.0601 - accuracy: 0.9778\n"
     ]
    }
   ],
   "source": [
    "history=model.fit(padded,\n",
    "                 train_labels,\n",
    "                 epochs=15)"
   ]
  },
  {
   "cell_type": "code",
   "execution_count": 32,
   "metadata": {},
   "outputs": [],
   "source": [
    "y_hat=model.predict(test_padded)"
   ]
  },
  {
   "cell_type": "code",
   "execution_count": 33,
   "metadata": {},
   "outputs": [
    {
     "data": {
      "text/plain": [
       "array([[7.2302204e-04],\n",
       "       [1.2432634e-02],\n",
       "       [3.3172232e-04],\n",
       "       ...,\n",
       "       [6.5797870e-04],\n",
       "       [3.0177658e-05],\n",
       "       [3.8351220e-04]], dtype=float32)"
      ]
     },
     "execution_count": 33,
     "metadata": {},
     "output_type": "execute_result"
    }
   ],
   "source": [
    "y_hat"
   ]
  },
  {
   "cell_type": "code",
   "execution_count": 34,
   "metadata": {},
   "outputs": [],
   "source": [
    "y_hat=y_hat>0.5\n",
    "y_hat=y_hat.astype(int)"
   ]
  },
  {
   "cell_type": "code",
   "execution_count": 35,
   "metadata": {},
   "outputs": [
    {
     "data": {
      "text/plain": [
       "0.9134199134199135"
      ]
     },
     "execution_count": 35,
     "metadata": {},
     "output_type": "execute_result"
    }
   ],
   "source": [
    "sklearn.metrics.accuracy_score(test_labels,y_hat)"
   ]
  },
  {
   "cell_type": "markdown",
   "metadata": {},
   "source": [
    "#### Model gives 91% accuracy on the test data"
   ]
  },
  {
   "cell_type": "code",
   "execution_count": null,
   "metadata": {},
   "outputs": [],
   "source": []
  },
  {
   "cell_type": "code",
   "execution_count": null,
   "metadata": {},
   "outputs": [],
   "source": []
  },
  {
   "cell_type": "markdown",
   "metadata": {},
   "source": [
    "### Creating the final model again and training on the entire dataset"
   ]
  },
  {
   "cell_type": "code",
   "execution_count": 36,
   "metadata": {},
   "outputs": [],
   "source": [
    "sentences=df.iloc[:,1].values\n",
    "labels=df.iloc[:,0].values"
   ]
  },
  {
   "cell_type": "code",
   "execution_count": 37,
   "metadata": {},
   "outputs": [],
   "source": [
    "sentences=list(sentences)\n",
    "labels=list(labels)"
   ]
  },
  {
   "cell_type": "code",
   "execution_count": 38,
   "metadata": {},
   "outputs": [],
   "source": [
    "tokenizer=Tokenizer(oov_token=\"<OOV>\")\n",
    "tokenizer.fit_on_texts(sentences)\n",
    "word_index=tokenizer.word_index\n",
    "vocab_size=len(word_index)\n",
    "sequence=tokenizer.texts_to_sequences(sentences)\n",
    "padded=pad_sequences(sequence, maxlen=max_len, truncating=trunc_type, padding=pad_type)\n",
    "labels=np.array(labels)"
   ]
  },
  {
   "cell_type": "code",
   "execution_count": 39,
   "metadata": {},
   "outputs": [],
   "source": [
    "embeddings_index={}\n",
    "with open(\"glove.6B.100d.txt\",\"r\",encoding=\"utf8\") as f:\n",
    "    for line in f:\n",
    "        values=line.split()\n",
    "        word=values[0]\n",
    "        coeffs=np.array(values[1:],dtype=\"float32\")\n",
    "        embeddings_index[word]=coeffs"
   ]
  },
  {
   "cell_type": "code",
   "execution_count": 40,
   "metadata": {},
   "outputs": [],
   "source": [
    "embedding_matrix=np.zeros((vocab_size+1,embedding_dim))\n",
    "for word,i in word_index.items():\n",
    "    embedding_vector=embeddings_index.get(word)\n",
    "    if embedding_vector is not None:\n",
    "        embedding_matrix[i]=embedding_vector"
   ]
  },
  {
   "cell_type": "code",
   "execution_count": 41,
   "metadata": {},
   "outputs": [
    {
     "name": "stdout",
     "output_type": "stream",
     "text": [
      "11814\n",
      "11813\n"
     ]
    }
   ],
   "source": [
    "print(len(embedding_matrix))\n",
    "print(vocab_size)"
   ]
  },
  {
   "cell_type": "code",
   "execution_count": 42,
   "metadata": {},
   "outputs": [],
   "source": [
    "tf.keras.backend.clear_session()\n",
    "tf.random.set_seed(55)\n",
    "np.random.seed(55)"
   ]
  },
  {
   "cell_type": "code",
   "execution_count": 43,
   "metadata": {},
   "outputs": [],
   "source": [
    "model=tf.keras.models.Sequential([\n",
    "    tf.keras.layers.Embedding(vocab_size+1, embedding_dim, input_length=max_len, weights=[embedding_matrix], trainable=False),\n",
    "    tf.keras.layers.Dropout(0.2),\n",
    "    tf.keras.layers.Conv1D(64, 5, activation='relu'),\n",
    "    tf.keras.layers.MaxPooling1D(pool_size=4),\n",
    "    tf.keras.layers.Bidirectional(tf.keras.layers.LSTM(64)),\n",
    "    tf.keras.layers.Dense(units=64, activation='relu'),\n",
    "    tf.keras.layers.Dense(units=1, activation='sigmoid')\n",
    "])"
   ]
  },
  {
   "cell_type": "code",
   "execution_count": 44,
   "metadata": {},
   "outputs": [],
   "source": [
    "model.compile(loss='binary_crossentropy',\n",
    "             optimizer='adam',\n",
    "             metrics=['accuracy'])"
   ]
  },
  {
   "cell_type": "code",
   "execution_count": 45,
   "metadata": {},
   "outputs": [
    {
     "name": "stdout",
     "output_type": "stream",
     "text": [
      "Train on 11541 samples\n",
      "Epoch 1/15\n",
      "11541/11541 [==============================] - 5s 417us/sample - loss: 0.3467 - accuracy: 0.8584\n",
      "Epoch 2/15\n",
      "11541/11541 [==============================] - 2s 173us/sample - loss: 0.2409 - accuracy: 0.9031\n",
      "Epoch 3/15\n",
      "11541/11541 [==============================] - 2s 174us/sample - loss: 0.2129 - accuracy: 0.9140\n",
      "Epoch 4/15\n",
      "11541/11541 [==============================] - 2s 180us/sample - loss: 0.1822 - accuracy: 0.9308\n",
      "Epoch 5/15\n",
      "11541/11541 [==============================] - 2s 173us/sample - loss: 0.1611 - accuracy: 0.9389\n",
      "Epoch 6/15\n",
      "11541/11541 [==============================] - 2s 200us/sample - loss: 0.1448 - accuracy: 0.9449\n",
      "Epoch 7/15\n",
      "11541/11541 [==============================] - 2s 199us/sample - loss: 0.1246 - accuracy: 0.9514\n",
      "Epoch 8/15\n",
      "11541/11541 [==============================] - 2s 198us/sample - loss: 0.1094 - accuracy: 0.9568\n",
      "Epoch 9/15\n",
      "11541/11541 [==============================] - 2s 202us/sample - loss: 0.1004 - accuracy: 0.9614\n",
      "Epoch 10/15\n",
      "11541/11541 [==============================] - 2s 186us/sample - loss: 0.0854 - accuracy: 0.9679\n",
      "Epoch 11/15\n",
      "11541/11541 [==============================] - 2s 180us/sample - loss: 0.0786 - accuracy: 0.9698\n",
      "Epoch 12/15\n",
      "11541/11541 [==============================] - 2s 185us/sample - loss: 0.0717 - accuracy: 0.9729\n",
      "Epoch 13/15\n",
      "11541/11541 [==============================] - 2s 175us/sample - loss: 0.0628 - accuracy: 0.9751\n",
      "Epoch 14/15\n",
      "11541/11541 [==============================] - 2s 176us/sample - loss: 0.0619 - accuracy: 0.9752\n",
      "Epoch 15/15\n",
      "11541/11541 [==============================] - 2s 176us/sample - loss: 0.0568 - accuracy: 0.9776\n"
     ]
    }
   ],
   "source": [
    "history=model.fit(padded,\n",
    "                 labels,\n",
    "                 epochs=15)"
   ]
  },
  {
   "cell_type": "code",
   "execution_count": 46,
   "metadata": {},
   "outputs": [
    {
     "data": {
      "image/png": "[encoded data removed]",
      "text/plain": [
       "<Figure size 432x288 with 1 Axes>"
      ]
     },
     "metadata": {
      "needs_background": "light"
     },
     "output_type": "display_data"
    }
   ],
   "source": [
    "acc=history.history[\"accuracy\"]\n",
    "loss=history.history[\"loss\"]\n",
    "epochs=len(acc)\n",
    "plt.plot(range(epochs),acc,'b')\n",
    "plt.plot(range(epochs),loss,'r')\n",
    "plt.show()"
   ]
  },
  {
   "cell_type": "code",
   "execution_count": null,
   "metadata": {},
   "outputs": [],
   "source": []
  },
  {
   "cell_type": "code",
   "execution_count": null,
   "metadata": {},
   "outputs": [],
   "source": []
  },
  {
   "cell_type": "code",
   "execution_count": null,
   "metadata": {},
   "outputs": [],
   "source": []
  },
  {
   "cell_type": "markdown",
   "metadata": {},
   "source": [
    "### Testing the model on some input text"
   ]
  },
  {
   "cell_type": "code",
   "execution_count": 47,
   "metadata": {},
   "outputs": [],
   "source": [
    "my_sent=\"Very good services, had a lot of fun\"\n",
    "my_sent=rem_hash(my_sent)\n",
    "my_sent=rem_url(my_sent)\n",
    "my_sent=make_lower(my_sent)\n",
    "my_sent=rem_emoji(my_sent)\n",
    "my_sent=[my_sent]"
   ]
  },
  {
   "cell_type": "code",
   "execution_count": 48,
   "metadata": {},
   "outputs": [
    {
     "data": {
      "text/plain": [
       "['very good services, had a lot of fun']"
      ]
     },
     "execution_count": 48,
     "metadata": {},
     "output_type": "execute_result"
    }
   ],
   "source": [
    "my_sent"
   ]
  },
  {
   "cell_type": "code",
   "execution_count": 49,
   "metadata": {},
   "outputs": [],
   "source": [
    "my_sent=tokenizer.texts_to_sequences(my_sent)\n",
    "my_sent=pad_sequences(my_sent, maxlen=max_len, truncating=trunc_type, padding=pad_type)"
   ]
  },
  {
   "cell_type": "code",
   "execution_count": 50,
   "metadata": {},
   "outputs": [
    {
     "data": {
      "text/plain": [
       "array([[135, 131, 923,  71,   5, 489,  14, 777,   0,   0,   0,   0,   0,\n",
       "          0,   0,   0,   0,   0,   0,   0,   0,   0,   0,   0,   0,   0,\n",
       "          0,   0,   0,   0,   0,   0]])"
      ]
     },
     "execution_count": 50,
     "metadata": {},
     "output_type": "execute_result"
    }
   ],
   "source": [
    "my_sent"
   ]
  },
  {
   "cell_type": "code",
   "execution_count": 51,
   "metadata": {},
   "outputs": [
    {
     "data": {
      "text/plain": [
       "0.99752754"
      ]
     },
     "execution_count": 51,
     "metadata": {},
     "output_type": "execute_result"
    }
   ],
   "source": [
    "model.predict(my_sent)[0][0]"
   ]
  },
  {
   "cell_type": "code",
   "execution_count": null,
   "metadata": {},
   "outputs": [],
   "source": []
  },
  {
   "cell_type": "code",
   "execution_count": null,
   "metadata": {},
   "outputs": [],
   "source": []
  },
  {
   "cell_type": "markdown",
   "metadata": {},
   "source": [
    "### Pickling the tokenizer"
   ]
  },
  {
   "cell_type": "code",
   "execution_count": 52,
   "metadata": {},
   "outputs": [],
   "source": [
    "with open('tokenizer.pickle', 'wb') as handle:\n",
    "    pickle.dump(tokenizer, handle, protocol=pickle.HIGHEST_PROTOCOL)"
   ]
  },
  {
   "cell_type": "markdown",
   "metadata": {},
   "source": [
    "### Saving the model"
   ]
  },
  {
   "cell_type": "code",
   "execution_count": 53,
   "metadata": {},
   "outputs": [
    {
     "name": "stdout",
     "output_type": "stream",
     "text": [
      "WARNING:tensorflow:From C:\\Users\\Amartya057\\anaconda3\\lib\\site-packages\\tensorflow_core\\python\\ops\\resource_variable_ops.py:1786: calling BaseResourceVariable.__init__ (from tensorflow.python.ops.resource_variable_ops) with constraint is deprecated and will be removed in a future version.\n",
      "Instructions for updating:\n",
      "If using Keras pass *_constraint arguments to layers.\n",
      "INFO:tensorflow:Assets written to: my_model\\assets\n"
     ]
    }
   ],
   "source": [
    "tf.keras.models.save_model(model,\n",
    "                          \"my_model\")"
   ]
  },
  {
   "cell_type": "code",
   "execution_count": null,
   "metadata": {},
   "outputs": [],
   "source": []
  },
  {
   "cell_type": "markdown",
   "metadata": {},
   "source": [
    "### Loading the saved model and testing it"
   ]
  },
  {
   "cell_type": "code",
   "execution_count": 54,
   "metadata": {},
   "outputs": [],
   "source": [
    "model2=tf.keras.models.load_model(\"my_model\")"
   ]
  },
  {
   "cell_type": "code",
   "execution_count": 55,
   "metadata": {},
   "outputs": [],
   "source": [
    "with open('tokenizer.pickle', 'rb') as handle:\n",
    "    tokenizer2 = pickle.load(handle)"
   ]
  },
  {
   "cell_type": "code",
   "execution_count": 56,
   "metadata": {},
   "outputs": [],
   "source": [
    "my_sent=\"The food was not good, very disappointed\"\n",
    "my_sent=rem_hash(my_sent)\n",
    "my_sent=rem_url(my_sent)\n",
    "my_sent=make_lower(my_sent)\n",
    "my_sent=rem_emoji(my_sent)\n",
    "my_sent=[my_sent]"
   ]
  },
  {
   "cell_type": "code",
   "execution_count": 57,
   "metadata": {},
   "outputs": [],
   "source": [
    "my_sent=tokenizer2.texts_to_sequences(my_sent)\n",
    "my_sent=pad_sequences(my_sent, maxlen=max_len, truncating=trunc_type, padding=pad_type)"
   ]
  },
  {
   "cell_type": "code",
   "execution_count": 58,
   "metadata": {},
   "outputs": [
    {
     "data": {
      "text/plain": [
       "array([[0.00280366]], dtype=float32)"
      ]
     },
     "execution_count": 58,
     "metadata": {},
     "output_type": "execute_result"
    }
   ],
   "source": [
    "model2.predict(my_sent)"
   ]
  },
  {
   "cell_type": "code",
   "execution_count": null,
   "metadata": {},
   "outputs": [],
   "source": []
  },
  {
   "cell_type": "code",
   "execution_count": null,
   "metadata": {},
   "outputs": [],
   "source": []
  },
  {
   "cell_type": "code",
   "execution_count": null,
   "metadata": {},
   "outputs": [],
   "source": []
  }
 ],
 "metadata": {
  "kernelspec": {
   "display_name": "Python 3",
   "language": "python",
   "name": "python3"
  },
  "language_info": {
   "codemirror_mode": {
    "name": "ipython",
    "version": 3
   },
   "file_extension": ".py",
   "mimetype": "text/x-python",
   "name": "python",
   "nbconvert_exporter": "python",
   "pygments_lexer": "ipython3",
   "version": "3.7.6"
  }
 },
 "nbformat": 4,
 "nbformat_minor": 4
}
